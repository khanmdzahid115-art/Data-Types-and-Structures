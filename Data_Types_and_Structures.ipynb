{
  "nbformat": 4,
  "nbformat_minor": 0,
  "metadata": {
    "colab": {
      "provenance": []
    },
    "kernelspec": {
      "name": "python3",
      "display_name": "Python 3"
    },
    "language_info": {
      "name": "python"
    }
  },
  "cells": [
    {
      "cell_type": "markdown",
      "source": [
        "# **Data Types and Structures**"
      ],
      "metadata": {
        "id": "7m4tPSx5zG_w"
      }
    },
    {
      "cell_type": "markdown",
      "source": [
        "\n",
        "1) What are data structures and why are they important in Python?\n",
        "\n",
        "  >A data structure is a way of organizing and storing data so that it can be used efficiently. Python\n",
        "provides built-in data structures such as lists, tuples, sets, and dictionaries. They are important\n",
        "because:\n",
        "1. They determine how efficiently data can be accessed and modified.\n",
        "2. Help reduce complexity of algorithms.\n",
        "3. Make code more readable and structured.\n",
        "4. Improve memory management and performance.\n",
        "5. Allow developers to choose the right tool for the right problem (e.g., dicts for fast lookups).\n",
        "\n",
        "2) Explain mutable and immutable data types with examples.\n",
        "\n",
        ">Mutable types can be changed after creation (list, dict, set). Immutable types cannot be changed\n",
        "once created (int, float, str, tuple).\n",
        "1. Mutables allow adding/removing elements directly.\n",
        "2. Immutables create new objects on modification.\n",
        "3. Mutables are flexible but risk accidental changes.\n",
        "4. Immutables are safe and can be dictionary keys.\n",
        "5. Example: list.append() works but str[0] = 'A' raises error.\n",
        "\n",
        "3) Differentiate between lists and tuples.\n",
        "\n",
        ">Both lists and tuples are sequence types, but they differ:\n",
        "1. Lists are mutable, tuples are immutable.\n",
        "2. Lists use [], tuples use ().\n",
        "3. Tuples are faster and smaller in memory.\n",
        "4. Lists support more methods (append, pop, etc.).\n",
        "5. Tuples are good for fixed records, lists for dynamic collections.\n",
        "\n",
        "4) How does Python handle data storage in dictionaries?\n",
        "\n",
        ">Dictionaries are implemented using hash tables.\n",
        "1. Each key is hashed to find a storage index.\n",
        "2. Values are stored at that index.\n",
        "3. Lookups are O(1) on average.\n",
        "4. Collisions are resolved internally.\n",
        "5. This makes dicts efficient for mapping unique keys to values.\n",
        "\n",
        "5) Why are sets used in Python and how are they different from lists?\n",
        "\n",
        ">Sets are unordered collections of unique items.\n",
        "1. They automatically remove duplicates.\n",
        "2. Membership tests are fast (O(1)).\n",
        "3. They support mathematical operations (union, intersection).\n",
        "4. Lists allow duplicates and are ordered.\n",
        "5. Sets are useful when uniqueness matters.\n",
        "\n",
        "6) What is a string and how does it differ from a list?\n",
        "\n",
        ">A string is an immutable sequence of characters, while a list is a mutable sequence of elements.\n",
        "1. Strings store text data, lists can store mixed types.\n",
        "2. Strings cannot be modified in place.\n",
        "3. Lists allow insertion, deletion, or change of elements.\n",
        "4. Strings support methods like upper(), replace().\n",
        "5. Lists support append(), remove(), pop().\n",
        "\n",
        "7) How do tuples ensure data integrity?\n",
        "\n",
        ">Tuples are immutable, so data cannot be changed accidentally.\n",
        "1. Once created, elements remain fixed.\n",
        "2. Useful for configuration values.\n",
        "3. Can be used as dict keys due to immutability.\n",
        "4. Prevent unintentional modification.\n",
        "5. Provide safe, reliable grouping of values.\n",
        "\n",
        "8) What is a hash table and how is it related to Python dictionaries?\n",
        "\n",
        ">A hash table is a structure that maps keys to values using a hash function.\n",
        "1. Computes an index based on the key.\n",
        "2. Provides fast data access (O(1) average).\n",
        "3. Handles collisions via probing.\n",
        "4. Python dictionaries are implemented using hash tables.\n",
        "5. Ensures quick lookups and updates.\n",
        "\n",
        "9) Can lists in Python contain different data types?\n",
        "\n",
        ">Yes, lists can hold heterogeneous data.\n",
        "1. Example: [1, 'apple', 3.5, True].\n",
        "2. This is possible because Python is dynamically typed.\n",
        "3. Increases flexibility for programmers.\n",
        "4. But may reduce efficiency if types are mixed heavily.\n",
        "5. Useful for prototyping and mixed collections.\n",
        "\n",
        "10) Why are strings immutable in Python?\n",
        "\n",
        ">Strings are immutable by design.\n",
        "1. Makes them safe for reuse and sharing.\n",
        "2. Ensures they can be dictionary keys (hashable).\n",
        "3. Supports memory optimization (string interning).\n",
        "4. Simplifies implementation of slicing and concatenation.\n",
        "5. Prevents accidental modifications in programs.\n",
        "\n",
        "11) What are the advantages of using dictionaries over lists?\n",
        "\n",
        ">A dictionary stores data as key–value pairs, while a list stores data by position. This gives\n",
        "dictionaries several advantages:\n",
        "1. Faster access: Retrieving a value by its key is O(1) on average, compared to O(n) for searching\n",
        "in a list.\n",
        "2. Readable data mapping: Keys make data more meaningful (e.g., student['name'] vs student[0]).\n",
        "3. Flexibility: Dictionaries allow dynamic addition/removal of key–value pairs.\n",
        "4. Avoid duplication: Keys must be unique, which helps prevent accidental repetition.\n",
        "5. Real-world use: Best suited for structured data like records or databases.\n",
        "\n",
        "12) When would you prefer a tuple over a list?\n",
        "\n",
        ">Tuples are immutable, so they are chosen when data must remain fixed. Situations include:\n",
        "1. Fixed records: Coordinates (x, y) or dates should not change.\n",
        "2. Dictionary keys: Tuples can be used as keys but lists cannot.\n",
        "3. Performance: Tuples are smaller and faster.\n",
        "4. Data integrity: Immutability prevents accidental modification.\n",
        "5. Function returns: Useful for safely grouping return values.\n",
        "\n",
        "13) How do sets handle duplicate elements?\n",
        "\n",
        ">Sets automatically remove duplicates because they are based on hashing.\n",
        "1. Each element's hash is computed.\n",
        "2. If the hash already exists, duplicates are ignored.\n",
        "3. Ensures every element in a set is unique.\n",
        "4. Useful for deduplication tasks.\n",
        "5. Behave like real-world mathematical sets.\n",
        "\n",
        "14) How does Python’s 'in' operator work for lists vs dictionaries?\n",
        "\n",
        ">The 'in' operator checks membership differently:\n",
        "1. Lists: Scans each element until a match is found → O(n).\n",
        "2. Dictionaries: Checks only keys using hashing → O(1).\n",
        "3. To check values, use 'value in d.values()'.\n",
        "4. For large datasets, dict membership is much faster.\n",
        "5. Lists are better when order/positions matter.\n",
        "\n",
        "15) Can you modify elements of a tuple? Why or why not?\n",
        "\n",
        ">No, tuples are immutable, so their contents cannot change.\n",
        "1. Attempting t[0] = 99 raises an error.\n",
        "2. Tuples are reliable for fixed collections.\n",
        "3. They are hashable and can be used as dict keys.\n",
        "4. Immutability improves safety and speed.\n",
        "5. However, if a tuple contains a mutable object (e.g., list), that object may still change.\n",
        "\n",
        "16) What is a nested dictionary and give a use case.\n",
        "\n",
        ">A nested dictionary has dictionaries as values.\n",
        "1. Represents hierarchical/structured data.\n",
        "2. Useful for storing records with multiple attributes.\n",
        "3. Access requires two keys: d['outer']['inner'].\n",
        "4. Common in JSON data from APIs/databases.\n",
        "5. Provides a clean way to organize complex datasets.\n",
        "\n",
        "17) What is the time complexity of dictionary operations in Python?\n",
        "\n",
        ">Dictionaries use hash tables, making them efficient:\n",
        "1. Lookup, insertion, deletion: O(1) average.\n",
        "2. Worst case: O(n) if too many collisions occur.\n",
        "3. Memory grows with number of pairs.\n",
        "4. Hashing ensures constant-time access most of the time.\n",
        "5. This efficiency makes dicts ideal for search-heavy tasks.\n",
        "\n",
        "18) When are lists preferred over dictionaries?\n",
        ">Lists are better when order and positions matter.\n",
        "1. Ordered collections: maintain insertion order.\n",
        "2. Index-based access: e.g., lst[0].\n",
        "3. Duplicates allowed.\n",
        "4. Support slicing/iteration.\n",
        "5. Best for simple sequential data.\n",
        "\n",
        "19) Why are dictionaries considered unordered, and how does it affect usage?\n",
        "\n",
        ">Conceptually, dictionaries are mappings, not sequences.\n",
        "1. Keys map to values, not positions.\n",
        "2. Older Python (<3.7) did not preserve insertion order.\n",
        "3. Modern versions preserve order but logic is still key-based.\n",
        "4. Cannot use numeric indexing like d[0].\n",
        "5. Always access data via keys, not order.\n",
        "\n",
        "20) Compare lists and dictionaries in terms of data retrieval.\n",
        "\n",
        ">Lists and dictionaries differ in how data is retrieved:\n",
        "1. Lists: retrieved by index (lst[2]), searching is O(n).\n",
        "2. Dicts: retrieved by key (d['age']), average O(1).\n",
        "3. Lists preserve order, dicts focus on key uniqueness.\n",
        "4. Lists are better for ordered sequences.\n",
        "5. Dicts are better for labeled data and fast lookups."
      ],
      "metadata": {
        "id": "ruujY6iSwv9-"
      }
    },
    {
      "cell_type": "code",
      "source": [
        "# Q1. Write a code to create a string with your name and print it\n",
        "name = \"Md Zahid Khan\"\n",
        "print(name)\n"
      ],
      "metadata": {
        "colab": {
          "base_uri": "https://localhost:8080/"
        },
        "id": "2Mu-R9hNQ-6A",
        "outputId": "74ad774c-edd7-4ebd-d13e-233bb2a915be"
      },
      "execution_count": 4,
      "outputs": [
        {
          "output_type": "stream",
          "name": "stdout",
          "text": [
            "Md Zahid Khan\n"
          ]
        }
      ]
    },
    {
      "cell_type": "code",
      "source": [
        "# Q2. Write a code to find the length of the string \"Hello World\"\n",
        "text = \"Hello World\"\n",
        "length = len(text)\n",
        "print(\"Length of the string:\", length)"
      ],
      "metadata": {
        "colab": {
          "base_uri": "https://localhost:8080/"
        },
        "id": "RG1CUgmzROc8",
        "outputId": "609e4e44-622a-4a42-b7bb-c15d5173e9f8"
      },
      "execution_count": 5,
      "outputs": [
        {
          "output_type": "stream",
          "name": "stdout",
          "text": [
            "Length of the string: 11\n"
          ]
        }
      ]
    },
    {
      "cell_type": "code",
      "source": [
        "# Q3.Write a code to slice the first 3 characters from the string \"Python Programming\".\n",
        "text = \"Python Programming\"\n",
        "first_three_chars = text[0:3]\n",
        "print(first_three_chars)"
      ],
      "metadata": {
        "colab": {
          "base_uri": "https://localhost:8080/"
        },
        "id": "YS7pglzoRkGY",
        "outputId": "727ac067-ca05-42cd-cf9b-73e981848ef4"
      },
      "execution_count": 6,
      "outputs": [
        {
          "output_type": "stream",
          "name": "stdout",
          "text": [
            "Pyt\n"
          ]
        }
      ]
    },
    {
      "cell_type": "code",
      "source": [
        "# Q4.Write a code to convert the string \"hello\" to uppercase\n",
        "text = \"hello\"\n",
        "uppercase_text = text.upper()\n",
        "print(uppercase_text)"
      ],
      "metadata": {
        "colab": {
          "base_uri": "https://localhost:8080/"
        },
        "id": "H1FbK4STRqVO",
        "outputId": "19219b58-097e-4d23-9a0f-40e7ca3de621"
      },
      "execution_count": 7,
      "outputs": [
        {
          "output_type": "stream",
          "name": "stdout",
          "text": [
            "HELLO\n"
          ]
        }
      ]
    },
    {
      "cell_type": "code",
      "source": [
        "# Q5. Write a code to replace the word \"apple\" with \"orange\" in the string \"I like apple\"\n",
        "text = \"I like apple\"\n",
        "new_text = text.replace(\"apple\", \"orange\")\n",
        "print(new_text)"
      ],
      "metadata": {
        "colab": {
          "base_uri": "https://localhost:8080/"
        },
        "id": "v2MSzJi5Rwzm",
        "outputId": "9bf3d86c-663d-4cf1-f9ec-78cb52e7e9cf"
      },
      "execution_count": 8,
      "outputs": [
        {
          "output_type": "stream",
          "name": "stdout",
          "text": [
            "I like orange\n"
          ]
        }
      ]
    },
    {
      "cell_type": "code",
      "source": [
        "# Q6.Write a code to create a list with numbers 1 to 5 and print it\n",
        "numbers = [1, 2, 3, 4, 5]\n",
        "print(numbers)"
      ],
      "metadata": {
        "colab": {
          "base_uri": "https://localhost:8080/"
        },
        "id": "utGh9sAKRw6P",
        "outputId": "fcc6e229-b69b-4afe-86a7-bda23486e159"
      },
      "execution_count": 9,
      "outputs": [
        {
          "output_type": "stream",
          "name": "stdout",
          "text": [
            "[1, 2, 3, 4, 5]\n"
          ]
        }
      ]
    },
    {
      "cell_type": "code",
      "source": [
        "# Q7.Write a code to append the number 10 to the list [1, 2, 3, 4]\n",
        "numbers = [1, 2, 3, 4]\n",
        "numbers.append(10)\n",
        "print(numbers)\n"
      ],
      "metadata": {
        "colab": {
          "base_uri": "https://localhost:8080/"
        },
        "id": "kKKGRMqwR8kt",
        "outputId": "21553a24-b91c-4e5c-c7ae-158ebfaf1785"
      },
      "execution_count": 10,
      "outputs": [
        {
          "output_type": "stream",
          "name": "stdout",
          "text": [
            "[1, 2, 3, 4, 10]\n"
          ]
        }
      ]
    },
    {
      "cell_type": "code",
      "source": [
        "# Q8. Write a code to remove the number 3 from the list [1, 2, 3, 4, 5].\n",
        "numbers = [1, 2, 3, 4, 5]\n",
        "numbers.remove(3)\n",
        "print(numbers)"
      ],
      "metadata": {
        "colab": {
          "base_uri": "https://localhost:8080/"
        },
        "id": "qvquUif4SByj",
        "outputId": "256e05f1-6f87-4ee9-f691-9623dde87399"
      },
      "execution_count": 11,
      "outputs": [
        {
          "output_type": "stream",
          "name": "stdout",
          "text": [
            "[1, 2, 4, 5]\n"
          ]
        }
      ]
    },
    {
      "cell_type": "code",
      "source": [
        "# Q9. Write a code to access the second element in the list ['a', 'b', 'c', 'd']\n",
        "letters = ['a', 'b', 'c', 'd']\n",
        "second_element = letters[1]\n",
        "print(second_element)"
      ],
      "metadata": {
        "colab": {
          "base_uri": "https://localhost:8080/"
        },
        "id": "mYharYugSHRL",
        "outputId": "2198a2ba-b0a1-4617-9ba8-b4555132e38a"
      },
      "execution_count": 12,
      "outputs": [
        {
          "output_type": "stream",
          "name": "stdout",
          "text": [
            "b\n"
          ]
        }
      ]
    },
    {
      "cell_type": "code",
      "source": [
        "# Q10. Write a code to reverse the list [10, 20, 30, 40, 50].\n",
        "numbers = [10, 20, 30, 40, 50]\n",
        "numbers.reverse()\n",
        "print(numbers)"
      ],
      "metadata": {
        "colab": {
          "base_uri": "https://localhost:8080/"
        },
        "id": "MMFgpO0KSMeu",
        "outputId": "8cb6b574-3d47-4ed0-adac-802f73f058c8"
      },
      "execution_count": 13,
      "outputs": [
        {
          "output_type": "stream",
          "name": "stdout",
          "text": [
            "[50, 40, 30, 20, 10]\n"
          ]
        }
      ]
    },
    {
      "cell_type": "code",
      "source": [
        "# Q11. Write a code to create a tuple with the elements 100, 200, 300 and print it.\n",
        "my_tuple = (100, 200, 300)\n",
        "print(my_tuple)"
      ],
      "metadata": {
        "colab": {
          "base_uri": "https://localhost:8080/"
        },
        "id": "fX0-qA8hSQG5",
        "outputId": "c87a539d-5194-41a7-b480-38c8d5cd5a28"
      },
      "execution_count": 14,
      "outputs": [
        {
          "output_type": "stream",
          "name": "stdout",
          "text": [
            "(100, 200, 300)\n"
          ]
        }
      ]
    },
    {
      "cell_type": "code",
      "source": [
        "# Q12. Write a code to access the second-to-last element of the tuple ('red', 'green', 'b\n",
        "colors = ('red', 'green', 'blue', 'yellow')\n",
        "print(colors[1:])\n"
      ],
      "metadata": {
        "colab": {
          "base_uri": "https://localhost:8080/"
        },
        "id": "rVVpSK1qSUEH",
        "outputId": "f305b2d5-3bf4-452d-cf92-c500742f6f7c"
      },
      "execution_count": 15,
      "outputs": [
        {
          "output_type": "stream",
          "name": "stdout",
          "text": [
            "('green', 'blue', 'yellow')\n"
          ]
        }
      ]
    },
    {
      "cell_type": "code",
      "source": [
        "# Q13. Write a code to find the minimum number in the tuple (10, 20, 5, 15).\n",
        "numbers = (10, 20, 5, 15)\n",
        "print(min(numbers))"
      ],
      "metadata": {
        "colab": {
          "base_uri": "https://localhost:8080/"
        },
        "id": "5D55pIcDSXzB",
        "outputId": "2938231a-3207-4a73-f74c-66d7770ec616"
      },
      "execution_count": 16,
      "outputs": [
        {
          "output_type": "stream",
          "name": "stdout",
          "text": [
            "5\n"
          ]
        }
      ]
    },
    {
      "cell_type": "code",
      "source": [
        "# Q14. Write a code to find the index of the element \"cat\" in the tuple ('dog', 'cat', 'r\n",
        "animals = ('dog', 'cat', 'rabbit')\n",
        "print(animals.index(\"cat\"))"
      ],
      "metadata": {
        "colab": {
          "base_uri": "https://localhost:8080/"
        },
        "id": "1Z9847rgS2ig",
        "outputId": "f5a03b07-ff44-4b73-eadb-03efbec7d869"
      },
      "execution_count": 17,
      "outputs": [
        {
          "output_type": "stream",
          "name": "stdout",
          "text": [
            "1\n"
          ]
        }
      ]
    },
    {
      "cell_type": "code",
      "source": [
        "# Q15. Write a code to create a tuple containing three different fruits and check if \"kiw\n",
        "fruits = (\"apple\", \"banana\", \"orange\")\n",
        "print(\"kiwi\" in fruits)"
      ],
      "metadata": {
        "colab": {
          "base_uri": "https://localhost:8080/"
        },
        "id": "2Op3TG76S8Hg",
        "outputId": "3bc0fcc6-7506-4158-fc06-12a347a07eee"
      },
      "execution_count": 18,
      "outputs": [
        {
          "output_type": "stream",
          "name": "stdout",
          "text": [
            "False\n"
          ]
        }
      ]
    },
    {
      "cell_type": "code",
      "source": [
        "# Q16. Write a code to create a set with the elements 'a', 'b', 'c' and print it\n",
        "my_set = {'a', 'b', 'c'}\n",
        "print(my_set)\n"
      ],
      "metadata": {
        "colab": {
          "base_uri": "https://localhost:8080/"
        },
        "id": "yomlGFT2TYNl",
        "outputId": "33bddc41-174a-4ab1-f937-b81815784670"
      },
      "execution_count": 19,
      "outputs": [
        {
          "output_type": "stream",
          "name": "stdout",
          "text": [
            "{'b', 'a', 'c'}\n"
          ]
        }
      ]
    },
    {
      "cell_type": "code",
      "source": [
        "# Q17. Write a code to clear all elements from the set {1, 2, 3, 4, 5}.\n",
        "my_set = {1, 2, 3, 4, 5}\n",
        "my_set.clear()\n",
        "print(my_set)\n"
      ],
      "metadata": {
        "colab": {
          "base_uri": "https://localhost:8080/"
        },
        "id": "5r_0w2FVTgau",
        "outputId": "d5f65d99-8f50-4609-a6c3-a233be22c04d"
      },
      "execution_count": 20,
      "outputs": [
        {
          "output_type": "stream",
          "name": "stdout",
          "text": [
            "set()\n"
          ]
        }
      ]
    },
    {
      "cell_type": "code",
      "source": [
        "# Q18. Write a code to remove the element 4 from the set {1, 2, 3, 4}\n",
        "my_set = {1, 2, 3, 4}\n",
        "my_set.remove(4)\n",
        "print(my_set)"
      ],
      "metadata": {
        "colab": {
          "base_uri": "https://localhost:8080/"
        },
        "id": "iHYfp6tzTtv8",
        "outputId": "a697ecb4-dbb8-415d-ecec-e6cf9af98997"
      },
      "execution_count": 21,
      "outputs": [
        {
          "output_type": "stream",
          "name": "stdout",
          "text": [
            "{1, 2, 3}\n"
          ]
        }
      ]
    },
    {
      "cell_type": "code",
      "source": [
        "# Q19. Write a code to find the union of two sets {1, 2, 3} and {3, 4, 5}\n",
        "set1 = {1, 2, 3}\n",
        "set2 = {3, 4, 5}\n",
        "result = set1.union(set2)\n",
        "print(result)\n"
      ],
      "metadata": {
        "colab": {
          "base_uri": "https://localhost:8080/"
        },
        "id": "wDJSsAMETy6r",
        "outputId": "f58b69c0-7eb4-43cc-89a1-8159501bf133"
      },
      "execution_count": 22,
      "outputs": [
        {
          "output_type": "stream",
          "name": "stdout",
          "text": [
            "{1, 2, 3, 4, 5}\n"
          ]
        }
      ]
    },
    {
      "cell_type": "code",
      "source": [
        "# Q20. Write a code to find the intersection of two sets {1, 2, 3} and {2, 3, 4}.\n",
        "set1 = {1, 2, 3}\n",
        "set2 = {2, 3, 4}\n",
        "result = set1.intersection(set2)\n",
        "print(result)\n"
      ],
      "metadata": {
        "colab": {
          "base_uri": "https://localhost:8080/"
        },
        "id": "yjEqtWVwT4UZ",
        "outputId": "22cca4b5-619d-4474-bd14-42a75ef2d2ba"
      },
      "execution_count": 23,
      "outputs": [
        {
          "output_type": "stream",
          "name": "stdout",
          "text": [
            "{2, 3}\n"
          ]
        }
      ]
    },
    {
      "cell_type": "code",
      "source": [
        "# Q21. Write a code to create a dictionary with the keys \"name\", \"age\", and \"city\", and  print it.\n",
        "my_dict = {\"name\": \"Md Zahid Khan\",\"age\": 22,\"city\": \"Kolkata\"}\n",
        "print(my_dict)"
      ],
      "metadata": {
        "colab": {
          "base_uri": "https://localhost:8080/"
        },
        "id": "GGCqHALbUFem",
        "outputId": "67e5a76b-7f91-4538-f2c3-d9ae22c354dc"
      },
      "execution_count": 24,
      "outputs": [
        {
          "output_type": "stream",
          "name": "stdout",
          "text": [
            "{'name': 'Md Zahid Khan', 'age': 22, 'city': 'Kolkata'}\n"
          ]
        }
      ]
    },
    {
      "cell_type": "code",
      "source": [
        "# Q22. Write a code to add a new key-value pair \"country\": \"USA\" to the dictionary  {'name': 'Alice', 'age': 30}.\n",
        "# Original dictionary\n",
        "person = {'name': 'John', 'age': 25}\n",
        "# Adding new key-value pair\n",
        "person['country'] = 'USA'\n",
        "# Printing updated dictionary\n",
        "print(person)"
      ],
      "metadata": {
        "colab": {
          "base_uri": "https://localhost:8080/"
        },
        "id": "k8McYjrhUmHv",
        "outputId": "0245bffa-fd55-4224-ca87-ec8beaddd097"
      },
      "execution_count": 25,
      "outputs": [
        {
          "output_type": "stream",
          "name": "stdout",
          "text": [
            "{'name': 'John', 'age': 25, 'country': 'USA'}\n"
          ]
        }
      ]
    },
    {
      "cell_type": "code",
      "source": [
        "# Q23. Write a code to access the value associated with the key \"name\" in the dictionary {'name': 'Alice', 'age': 30}.\n",
        "person = {'name': 'Alice', 'age': 30}\n",
        "# Accessing value using key\n",
        "print(person['name'])"
      ],
      "metadata": {
        "colab": {
          "base_uri": "https://localhost:8080/"
        },
        "id": "-LUb_JVeUvfI",
        "outputId": "53179098-3cf4-4c6d-9849-a6e0492b41fd"
      },
      "execution_count": 26,
      "outputs": [
        {
          "output_type": "stream",
          "name": "stdout",
          "text": [
            "Alice\n"
          ]
        }
      ]
    },
    {
      "cell_type": "code",
      "source": [
        "# Q24. Write a code to remove the key \"age\" from the dictionary {'name': 'Bob', 'age': 22, 'city': 'New York'}.\n",
        "person = {'name': 'Bob', 'age': 22, 'city': 'New York'}\n",
        "# Removing key 'age'\n",
        "del person['age']\n",
        "print(person)"
      ],
      "metadata": {
        "colab": {
          "base_uri": "https://localhost:8080/"
        },
        "id": "92m1EihNU8j2",
        "outputId": "1f279a09-833c-4cbb-d485-f59d4070a8d6"
      },
      "execution_count": 27,
      "outputs": [
        {
          "output_type": "stream",
          "name": "stdout",
          "text": [
            "{'name': 'Bob', 'city': 'New York'}\n"
          ]
        }
      ]
    },
    {
      "cell_type": "code",
      "source": [
        "# Q25. Write a code to check if the key \"city\" exists in the dictionary {'name': 'Alice','city': 'Paris'}.\n",
        "person = {'name': 'Alice', 'city': 'Paris'}\n",
        "# Check if 'city' key exists\n",
        "print('city' in person)"
      ],
      "metadata": {
        "colab": {
          "base_uri": "https://localhost:8080/"
        },
        "id": "LYFIbjHMVBVj",
        "outputId": "4b577355-b174-4aa4-f60d-78cb5871850b"
      },
      "execution_count": 28,
      "outputs": [
        {
          "output_type": "stream",
          "name": "stdout",
          "text": [
            "True\n"
          ]
        }
      ]
    },
    {
      "cell_type": "code",
      "source": [
        "# Q26 Write a code to create a list, a tuple, and a dictionary, and print them all.\n",
        "# Creating a list\n",
        "my_list = [1, 2, 3]\n",
        "# Creating a tuple\n",
        "my_tuple = (4, 5, 6)\n",
        "# Creating a dictionary\n",
        "my_dict = {'name': 'Alice', 'age': 25}\n",
        "# Printing all\n",
        "print(\"List:\", my_list)\n",
        "print(\"Tuple:\", my_tuple)\n",
        "print(\"Dictionary:\", my_dict)"
      ],
      "metadata": {
        "colab": {
          "base_uri": "https://localhost:8080/"
        },
        "id": "y2DBwThcVDkl",
        "outputId": "2479afd6-6f4c-46d8-ba24-8e65c28ab940"
      },
      "execution_count": 29,
      "outputs": [
        {
          "output_type": "stream",
          "name": "stdout",
          "text": [
            "List: [1, 2, 3]\n",
            "Tuple: (4, 5, 6)\n",
            "Dictionary: {'name': 'Alice', 'age': 25}\n"
          ]
        }
      ]
    },
    {
      "cell_type": "code",
      "source": [
        "# Q27. Write a code to create a list of 5 random numbers between 1 and 100, sort it in ascending order,and print the result.(replaced)\n",
        "import random\n",
        "# Create a list of 5 random numbers between 1 and 100\n",
        "random_numbers = [random.randint(1, 100) for _ in range(5)]\n",
        "# Sort the list in ascending order\n",
        "random_numbers.sort()\n",
        "# Print the sorted list\n",
        "print(random_numbers)"
      ],
      "metadata": {
        "colab": {
          "base_uri": "https://localhost:8080/"
        },
        "id": "j0UFihpjVN-g",
        "outputId": "9054e531-2ad2-41b1-a0ef-9b5488307db3"
      },
      "execution_count": 30,
      "outputs": [
        {
          "output_type": "stream",
          "name": "stdout",
          "text": [
            "[16, 19, 35, 41, 72]\n"
          ]
        }
      ]
    },
    {
      "cell_type": "code",
      "source": [
        "# Q28. Write a code to create a list with strings and print the element at the third index.\n",
        "# Creating a list of strings\n",
        "fruits = [\"apple\", \"banana\", \"cherry\", \"orange\", \"mango\"]\n",
        "# Accessing the element at the third index\n",
        "print(fruits[3])\n"
      ],
      "metadata": {
        "colab": {
          "base_uri": "https://localhost:8080/"
        },
        "id": "BDtfgGlrVlMz",
        "outputId": "b7f7cca2-871a-4aff-ff26-96c8dbb108de"
      },
      "execution_count": 31,
      "outputs": [
        {
          "output_type": "stream",
          "name": "stdout",
          "text": [
            "orange\n"
          ]
        }
      ]
    },
    {
      "cell_type": "code",
      "source": [
        "# Q29.Write a code to combine two dictionaries into one and print the result.\n",
        "dict1 = {'a': 1, 'b': 2}\n",
        "dict2 = {'c': 3, 'd': 4}\n",
        "# Merge dict2 into dict1\n",
        "dict1.update(dict2)\n",
        "print(dict1)\n"
      ],
      "metadata": {
        "colab": {
          "base_uri": "https://localhost:8080/"
        },
        "id": "-QC7fFFDVtNS",
        "outputId": "108fcfa9-addf-475c-d36a-8618fac1ad69"
      },
      "execution_count": 32,
      "outputs": [
        {
          "output_type": "stream",
          "name": "stdout",
          "text": [
            "{'a': 1, 'b': 2, 'c': 3, 'd': 4}\n"
          ]
        }
      ]
    },
    {
      "cell_type": "code",
      "source": [
        "# Q30. Write a code to convert a list of strings into a set.\n",
        "# List of strings\n",
        "fruits_list = [\"apple\", \"banana\", \"apple\", \"orange\", \"banana\"]\n",
        "# Convert list to set\n",
        "fruits_set = set(fruits_list)\n",
        "print(fruits_set)"
      ],
      "metadata": {
        "colab": {
          "base_uri": "https://localhost:8080/"
        },
        "id": "wk3m_z4gV0cc",
        "outputId": "c1a68c61-7d21-419a-cc35-8e09e16aa5ad"
      },
      "execution_count": 33,
      "outputs": [
        {
          "output_type": "stream",
          "name": "stdout",
          "text": [
            "{'banana', 'orange', 'apple'}\n"
          ]
        }
      ]
    }
  ]
}